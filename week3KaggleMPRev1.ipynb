{
 "cells": [
  {
   "cell_type": "markdown",
   "id": "ea8f4637-d878-4769-9bd5-be58688379c5",
   "metadata": {},
   "source": [
    "<h1 style=\"text-align: center; color: #8D7334; font-weight: bold; font-style: italic; text-decoration: underline; \"> Histopathologic Cancer Detection using Covolutional Neural Networks (CNNs)</h1>\n",
    "\n",
    "<h2 style=\"text-align: center;  font-weight: bold; font-style: italic; text-decoration: underline; \">  University of Colorado Boulder </h2>\n",
    "<h2 style=\"text-align: center;  font-weight: bold; font-style: italic; text-decoration: underline; \">  Master of Data Science </h2>\n",
    "<h2 style=\"text-align: center;  font-weight: bold; font-style: italic; text-decoration: underline; \">  DTSA 5511 Introduction to Deep Learning -- Week 3 -- Final Project -- </h2>\n",
    "<br>\n",
    "<br>\n",
    "<h3 style=\"font-weight: bold; font-style: italic; text-decoration: underline;\"> Introduction and Key Objectives:</h3>\n",
    "Cancer detection has been a priority for the medical community for decades. Early detection and treatment may be the difference between life and otherwise. Digital technologies have helped the medical community in this effort. This project's main objective is to identify images with cancer based on an algorithm trained on thousands of images known to contain (and not contain) cancer cells. At a more technical level, the objective translates into training a model with thousands of labelled images, and label new unseen images. In this particular case, the new unseen images used in the validation and testing sets have labels as well, and that allows us to measure the performance of the model in terms of its accuracy in predicting the correct label for each image.\n",
    "\n",
    "\n",
    "<h3 style=\"font-weight: bold; font-style: italic; text-decoration: underline;\"> Data Source:</h3>\n",
    "The original data source is PatchCamelyon (PCam), a new and challenging image classification dataset. It consists of 327,680 color 96 x 96 pixels images extracted from histopathologic scans of lymph node sections, with each image labelled 0 or 1 with 1 indicating the presence of metastatic tissue--.\n",
    "The data is stored in gzipped HDF5 files and can be downloaded from Kaggle https://www.kaggle.com/c/histopathologic-cancer-detection using the link under 'benchmark dataset', or directly from this github page:\n",
    "\n",
    "https://github.com/basveeling/pcam\n",
    "\n",
    "The initial data download of the .gz files is manual. \n",
    "\n",
    "xTrainh5 = \"camelyonpatch_level_2_split_train_x.h5.gz\" \n",
    "yTrainh5 = \"camelyonpatch_level_2_split_train_y.h5.gz\"\n",
    "\n",
    "xTesth5 = \"camelyonpatch_level_2_split_test_x.h5.gz\"\n",
    "yTesth5 = \"camelyonpatch_level_2_split_test_y.h5.gz\"\n",
    "\n",
    "xValidh5 = \"camelyonpatch_level_2_split_valid_x.h5.gz\"\n",
    "yValidh5 = \"camelyonpatch_level_2_split_valid_y.h5.gz\"\n",
    "\n",
    "Thereafter, the decompression into .h5, flatenning to .tiff, and final creation of .csv run automatically through the code. The images are stored in 3 folders: trainSet, testSet, validSet, which need to be created prior to runnning the code as subdirectories of the directory in which the code runs. \n"
   ]
  },
  {
   "cell_type": "markdown",
   "id": "96863473-401e-4b55-82f2-5775cff3c6e2",
   "metadata": {},
   "source": [
    "<h3 style=\"font-weight: bold; font-style: italic; text-decoration: underline;\"> Import Libraries and Basic File Adjustments:</h3>\n"
   ]
  },
  {
   "cell_type": "code",
   "execution_count": 1,
   "id": "f1652d11-0f3e-4eb7-8138-c38f7e1b5ef0",
   "metadata": {},
   "outputs": [
    {
     "name": "stderr",
     "output_type": "stream",
     "text": [
      "/home/lrt/.local/lib/python3.12/site-packages/numpy/core/getlimits.py:542: UserWarning: Signature b'\\x00\\xd0\\xcc\\xcc\\xcc\\xcc\\xcc\\xcc\\xfb\\xbf\\x00\\x00\\x00\\x00\\x00\\x00' for <class 'numpy.longdouble'> does not match any known type: falling back to type probe function.\n",
      "This warnings indicates broken support for the dtype!\n",
      "  machar = _get_machar(dtype)\n",
      "/home/lrt/.local/lib/python3.12/site-packages/pandas/core/arrays/masked.py:60: UserWarning: Pandas requires version '1.3.6' or newer of 'bottleneck' (version '1.3.5' currently installed).\n",
      "  from pandas.core import (\n",
      "/home/lrt/.local/lib/python3.12/site-packages/matplotlib/projections/__init__.py:63: UserWarning: Unable to import Axes3D. This may be due to multiple versions of Matplotlib being installed (e.g. as a system package and as a pip package). As a result, the 3D projection is not available.\n",
      "  warnings.warn(\"Unable to import Axes3D. This may be due to multiple versions of \"\n",
      "2025-05-30 13:40:44.151941: E external/local_xla/xla/stream_executor/cuda/cuda_fft.cc:467] Unable to register cuFFT factory: Attempting to register factory for plugin cuFFT when one has already been registered\n",
      "WARNING: All log messages before absl::InitializeLog() is called are written to STDERR\n",
      "E0000 00:00:1748626844.167768   32658 cuda_dnn.cc:8579] Unable to register cuDNN factory: Attempting to register factory for plugin cuDNN when one has already been registered\n",
      "E0000 00:00:1748626844.172854   32658 cuda_blas.cc:1407] Unable to register cuBLAS factory: Attempting to register factory for plugin cuBLAS when one has already been registered\n",
      "W0000 00:00:1748626844.187980   32658 computation_placer.cc:177] computation placer already registered. Please check linkage and avoid linking the same target more than once.\n",
      "W0000 00:00:1748626844.188003   32658 computation_placer.cc:177] computation placer already registered. Please check linkage and avoid linking the same target more than once.\n",
      "W0000 00:00:1748626844.188006   32658 computation_placer.cc:177] computation placer already registered. Please check linkage and avoid linking the same target more than once.\n",
      "W0000 00:00:1748626844.188009   32658 computation_placer.cc:177] computation placer already registered. Please check linkage and avoid linking the same target more than once.\n",
      "2025-05-30 13:40:44.192739: I tensorflow/core/platform/cpu_feature_guard.cc:210] This TensorFlow binary is optimized to use available CPU instructions in performance-critical operations.\n",
      "To enable the following instructions: AVX2 FMA, in other operations, rebuild TensorFlow with the appropriate compiler flags.\n"
     ]
    },
    {
     "name": "stdout",
     "output_type": "stream",
     "text": [
      "\n",
      "Line 89: trainDF exists.\n",
      "\n",
      "Line 97: validDF exists.\n",
      "\n",
      "Line 105: testDF exists.\n"
     ]
    }
   ],
   "source": [
    "import os\n",
    "import gzip\n",
    "import shutil\n",
    "import h5py\n",
    "import pandas as pd\n",
    "import numpy as np\n",
    "import zipfile\n",
    "import matplotlib.pyplot as plt\n",
    "import pickle\n",
    "import random\n",
    "# Image Processing Packages\n",
    "from PIL import Image\n",
    "import hashlib\n",
    "\n",
    "# Metrics\n",
    "from sklearn.metrics import accuracy_score, auc, f1_score, precision_score, recall_score, confusion_matrix, ConfusionMatrixDisplay\n",
    "\n",
    "# Tensorflow\n",
    "import tensorflow as tf\n",
    "from tensorflow.keras.preprocessing.image import ImageDataGenerator\n",
    "from tensorflow.keras import datasets, layers, models\n",
    "\n",
    "#========================================================\n",
    "# Set seed for reproducible results.\n",
    "SEED = 2025\n",
    "os.environ['PYTHONHASHSEED'] = str(SEED)\n",
    "random.seed(SEED)\n",
    "np.random.seed(SEED)\n",
    "tf.random.set_seed(SEED)\n",
    "#==========================================================\n",
    "\n",
    "# These gz files are downloaded first from the https://github.com/basveeling/pcam repository.\n",
    "# These are the original files used in the Kaggle competition.\n",
    "\n",
    "# Training Set:\n",
    "xTrainh5 = \"camelyonpatch_level_2_split_train_x.h5.gz\" \n",
    "yTrainh5 = \"camelyonpatch_level_2_split_train_y.h5.gz\"\n",
    "# Testing Set:\n",
    "xTesth5 = \"camelyonpatch_level_2_split_test_x.h5.gz\"\n",
    "yTesth5 = \"camelyonpatch_level_2_split_test_y.h5.gz\"\n",
    "#Validation Set\n",
    "xValidh5 = \"camelyonpatch_level_2_split_valid_x.h5.gz\"\n",
    "yValidh5 = \"camelyonpatch_level_2_split_valid_y.h5.gz\"\n",
    "\n",
    "filesList = [xTesth5, yTesth5, xTrainh5, yTrainh5, xValidh5, yValidh5]\n",
    "\n",
    "# gz file to h5: \n",
    "def print_all(name):\n",
    "    print(\"\\nLine 34 name:\", name)\n",
    "\n",
    "def convertgzh5( inputFile):\n",
    "    outputFile = inputFile[:len(inputFile)-3]\n",
    "    with gzip.open(inputFile, 'rb') as fin:\n",
    "            with open(outputFile, 'wb') as fout:\n",
    "                    shutil.copyfileobj(fin, fout)\n",
    "#convertgzh5(yTrainh5)\n",
    "\n",
    "def makeTiff(x, y, dirBase):\n",
    "    # Operate over x first:\n",
    "    hexNames = []\n",
    "    outputDir = dirBase\n",
    "    fileName = x[:len(x)-3]\n",
    "    \n",
    "    # Open the .h5 file\n",
    "    with h5py.File(fileName, 'r') as f: # first level keys.\n",
    "            keys = list(f.keys())\n",
    "            print(\"\\n Line 56 Keys in file:\", keys)\n",
    "            for key in f.keys(): # first level keys.\n",
    "                    print(\"\\nLine 58: \", key, f[key].shape, f[key].dtype)\n",
    "\n",
    "            keyName = keys[0] #If more than 1 key, this needs to change.\n",
    "            images = f[keyName][:] #shape: (32768, 96, 96, 3)\n",
    "            print(\"\\nLine 62 images ids of shape \", images.shape )\n",
    "                    \n",
    "            # Make a hexadecimal Name based on image features:\n",
    "            for i, imgArray in enumerate(images):\n",
    "                    if( i % 10000 == 0):\n",
    "                            print(\"\\nLine 67 processing image\", i,\"of\", len(images) )\n",
    "                    hexName = hashlib.sha1(imgArray.tobytes()).hexdigest()\n",
    "                    hexNames.append(hexName)\n",
    "                    img = Image.fromarray(imgArray.astype(np.uint8))\n",
    "                    img.save(os.path.join(outputDir, f\"{hexName}.tiff\"))\n",
    "    \n",
    "    \n",
    "    # Now do y:\n",
    "    yh5FileName = y[:-3]\n",
    "    print(\"\\nLine 76 processing y file\", yh5FileName)\n",
    "    with h5py.File(yh5FileName, 'r') as f:\n",
    "            yLabels = f[ \"y\" ][:].squeeze() #Remove singleton dimensions\n",
    "\n",
    "    # Save to CSV\n",
    "    print(\"\\nLine 81 save y file\", yh5FileName, \"to csv.\")\n",
    "    pd.DataFrame(yLabels, columns=['yLabel']).to_csv( dirBase+\".csv\", index=False)\n",
    "\n",
    "    return hexNames, yLabels\n",
    "\n",
    "\n",
    "# The file decompression and conversion code takes a long to run and it runs only once.\n",
    "# Once a .csv file is created, this piece of code does not run again.\n",
    "if os.path.isfile(\"trainDF.csv\"):\n",
    "    print(\"\\nLine 89: trainDF exists.\")\n",
    "else:\n",
    "    hexNames, yLabels = makeTiff(xTrainh5, yTrainh5, \"trainSet\")\n",
    "    print(\"\\nLine 87 build and save DF\", \"trainSet\")\n",
    "    trainDF = pd.DataFrame( {\"ImageID\": hexNames, \"yLabel\": yLabels } )\n",
    "    trainDF.to_csv( \"trainDF\" +\".csv\", index=False)\n",
    "\n",
    "if os.path.isfile(\"validDF.csv\"):\n",
    "    print(\"\\nLine 97: validDF exists.\")\n",
    "else:\n",
    "    hexNames, yLabels = makeTiff(xValidh5, yValidh5, \"validSet\")\n",
    "    print(\"\\nLine 100 build and save DF\", \"validSet\")\n",
    "    validDF = pd.DataFrame( {\"ImageID\": hexNames, \"yLabel\": yLabels })\n",
    "    validDF.to_csv( \"validDF\" +\".csv\", index=False )\n",
    "\n",
    "if os.path.isfile(\"testDF.csv\"):\n",
    "    print(\"\\nLine 105: testDF exists.\")\n",
    "else:\n",
    "    hexNames, yLabels = makeTiff(xTesth5, yTesth5, \"testSet\")\n",
    "    print(\"\\nLine 108 build and save DF\", \"testSet\")\n",
    "    testDF = pd.DataFrame( {\"ImageID\": hexNames, \"yLabel\": yLabels })\n",
    "    testDF.to_csv( \"testDF\" +\".csv\", index=False )\n",
    "\n",
    "\n"
   ]
  },
  {
   "cell_type": "markdown",
   "id": "a7238a2f-61ab-4c02-8587-99b3e262dd29",
   "metadata": {},
   "source": [
    "<h3 style=\"font-weight: bold; font-style: italic; text-decoration: underline;\"> Directories, Code high level Structure, and Preprocessing: </h3>\n",
    "The main download and decompression creates 3 main .csv files to which I refer during the rest of the development of the project. It also stores the training, testing, and validation images in 3 different folders --which need to be created prior to running the code--. The folder names are: trainSet, testSet, validSet.\n",
    "\n",
    "Some images are duplicated in the initial download. I remove them below as part of the preprocessing step. Other than that, I found the data to be clean and usable right away."
   ]
  },
  {
   "cell_type": "code",
   "execution_count": 2,
   "id": "550ce9d9-fe3d-45b7-a85e-d66571df0bf4",
   "metadata": {},
   "outputs": [
    {
     "name": "stdout",
     "output_type": "stream",
     "text": [
      "\n",
      "Line 129 trainDF :\n",
      "\n",
      "<class 'pandas.core.frame.DataFrame'>\n",
      "RangeIndex: 220025 entries, 0 to 220024\n",
      "Data columns (total 2 columns):\n",
      " #   Column   Non-Null Count   Dtype \n",
      "---  ------   --------------   ----- \n",
      " 0   ImageID  220025 non-null  object\n",
      " 1   yLabel   220025 non-null  int64 \n",
      "dtypes: int64(1), object(1)\n",
      "memory usage: 3.4+ MB\n",
      "\n",
      " ImageID    179015706f51701c0a67181a59bea1ffe3becbf2\n",
      "yLabel                                            0\n",
      "Name: 0, dtype: object \n",
      "\n",
      "\n",
      "Line 129 validDF :\n",
      "\n",
      "<class 'pandas.core.frame.DataFrame'>\n",
      "RangeIndex: 28108 entries, 0 to 28107\n",
      "Data columns (total 2 columns):\n",
      " #   Column   Non-Null Count  Dtype \n",
      "---  ------   --------------  ----- \n",
      " 0   ImageID  28108 non-null  object\n",
      " 1   yLabel   28108 non-null  int64 \n",
      "dtypes: int64(1), object(1)\n",
      "memory usage: 439.3+ KB\n",
      "\n",
      " ImageID    7ed75049c03bc60f3ee3d88f9fb05ed4e038d512\n",
      "yLabel                                            1\n",
      "Name: 0, dtype: object \n",
      "\n",
      "\n",
      "Line 129 testDF :\n",
      "\n",
      "<class 'pandas.core.frame.DataFrame'>\n",
      "RangeIndex: 29383 entries, 0 to 29382\n",
      "Data columns (total 2 columns):\n",
      " #   Column   Non-Null Count  Dtype \n",
      "---  ------   --------------  ----- \n",
      " 0   ImageID  29383 non-null  object\n",
      " 1   yLabel   29383 non-null  int64 \n",
      "dtypes: int64(1), object(1)\n",
      "memory usage: 459.2+ KB\n",
      "\n",
      " ImageID    67acada051970ab2bb750da0d7ea997daed9edf6\n",
      "yLabel                                            0\n",
      "Name: 0, dtype: object \n",
      "\n",
      "\n",
      "Line 137 Total size= 277516\n",
      "\n",
      "Line 138 Train size= 220025\n",
      "\n",
      "Line 139 Validation size= 28108\n",
      "\n",
      "Line 140 Test size= 29383\n",
      "\n",
      "Line 141 Validation/Train % = 12.77\n",
      "\n",
      "Line 142 Test/Train % = 13.35\n"
     ]
    }
   ],
   "source": [
    "# Get the basic shape of dataframes, and initiate the preprocessing:\n",
    "dictDF = {}\n",
    "listDF = [ \"trainDF\", \"validDF\", \"testDF\"]\n",
    "sizeDF = []\n",
    "for i in range(len(listDF)):\n",
    "    # Get shape information of the dataframes:\n",
    "    tempName = listDF[i]\n",
    "    tempDF = pd.read_csv( tempName + \".csv\")\n",
    "    dictDF[ tempName] = tempDF\n",
    "    #print(\"\\nLine 118\", tempName,\":\\n\")\n",
    "    #tempDF.info()\n",
    "    sizeDF.append(tempDF.shape[0])\n",
    "\n",
    "    # Check and remove duplicates; keep first occurence:\n",
    "    uniqueIDs = tempDF.iloc[:,0].unique()\n",
    "    if( len(uniqueIDs) < tempDF.shape[0]):\n",
    "            print(\"\\nLine 125: There are duplicates in\", tempName, \"unique=\", len(uniqueIDs), \"out of total=\", tempDF.shape[0])\n",
    "            tempDF.drop_duplicates(inplace=True)\n",
    "            tempDF.to_csv( tempName +\".csv\", index=False )\n",
    "\n",
    "    # Output without duplicates:\n",
    "    print(\"\\nLine 129\", tempName,\":\\n\")\n",
    "    tempDF.info()\n",
    "    print(\"\\n\", tempDF.iloc[0], \"\\n\")\n",
    "\n",
    "# Total size and test/train, validation/train ratios\n",
    "print(\"\\nLine 137 Total size=\", np.sum(sizeDF))\n",
    "print(\"\\nLine 138 Train size=\", sizeDF[0])\n",
    "print(\"\\nLine 139 Validation size=\", sizeDF[1])\n",
    "print(\"\\nLine 140 Test size=\", sizeDF[2])\n",
    "print(\"\\nLine 141 Validation/Train % =\", round(sizeDF[1]/sizeDF[0]*100,2))\n",
    "print(\"\\nLine 142 Test/Train % =\", round(sizeDF[2]/sizeDF[0]*100,2))"
   ]
  },
  {
   "cell_type": "markdown",
   "id": "8aef9749-bc7b-4ca2-9d3b-6961c3dca002",
   "metadata": {},
   "source": [
    "The output of the this preprocessing cleaning step is 3 clean datasets with unique images (no duplicates) --trainDF (circa 74%), validDF(circa 13%), setDF (circa 13%)-- stored locally in a .csv file. \n",
    "\n",
    "Each file contains a hexadecimal imageID, and a label indicating whether the image represents a cancer cell or not. "
   ]
  },
  {
   "cell_type": "markdown",
   "id": "cc52db45-ca7f-4d58-a6dc-7b7d374e24f3",
   "metadata": {},
   "source": [
    "<h3 style=\"font-weight: bold; font-style: italic; text-decoration: underline;\">  Exploratory Data Analysis (EDA):</h3>\n",
    "The data consists of images. The first 10 images on the training set look as follows:\n"
   ]
  },
  {
   "cell_type": "code",
   "execution_count": 3,
   "id": "cf6be7a1-9adc-4af7-8d43-465dca4bf604",
   "metadata": {},
   "outputs": [
    {
     "name": "stdout",
     "output_type": "stream",
     "text": [
      "\n",
      "Line : Single Image Format\n",
      " TIFF (96, 96) RGB\n"
     ]
    },
    {
     "data": {
      "image/png": "[encoded data removed]",
      "text/plain": [
       "<Figure size 640x480 with 16 Axes>"
      ]
     },
     "metadata": {},
     "output_type": "display_data"
    },
    {
     "data": {
      "text/plain": [
       "<Figure size 2000x1000 with 0 Axes>"
      ]
     },
     "metadata": {},
     "output_type": "display_data"
    }
   ],
   "source": [
    "trainDF = pd.read_csv(\"trainDF.csv\")\n",
    "cwd = os.getcwd()\n",
    "trainPath = cwd + \"/trainSet/\"\n",
    "nDisplay = 16\n",
    "for i, imgName in enumerate( trainDF[\"ImageID\"].head(nDisplay) ):\n",
    "    imageFilePathTemp = trainPath+imgName + \".tiff\"\n",
    "    imageTemp = Image.open( imageFilePathTemp )\n",
    "    if i == 0:\n",
    "        print(\"\\nLine : Single Image Format\\n\" ,imageTemp.format, imageTemp.size, imageTemp.mode)\n",
    "    plt.subplot(1, nDisplay, i+1)\n",
    "    plt.imshow(imageTemp)\n",
    "    plt.axis('off')\n",
    "fig = plt.figure()\n",
    "fig.set_size_inches(20, 10)  # 10 inches wide, 4 inches tall\n",
    "plt.tight_layout()\n",
    "plt.show()\n"
   ]
  },
  {
   "cell_type": "markdown",
   "id": "17e3f474-9632-423a-a1b8-5077c466f776",
   "metadata": {},
   "source": [
    "Some of these images are labelled \"0\" (no cancer present) and otehrs \"1\" (cancer is present). These images don't say much to the non-expert. A trained expert may be able to get insights from them, but does she have the time to review 300,000 of them?. This is where CNN technologies can help.\n",
    "\n",
    "I will verify that the images are all of the same size. This piece of code is slow to run as it goes through all images one by one. It runs only once."
   ]
  },
  {
   "cell_type": "code",
   "execution_count": 4,
   "id": "ebe6329f-d89d-47f0-934b-3d5cfb44b42e",
   "metadata": {},
   "outputs": [
    {
     "name": "stdout",
     "output_type": "stream",
     "text": [
      "\n",
      "Line 182: Check Train set image sizes:\n",
      "\n",
      "\n",
      "Line 184: The Train set has 89117 label in 1 indicating the presence of cancer.\n",
      " This is about 41.0 percent of the total set.\n",
      "\n",
      "Line 188: Check Test set image sizes:\n",
      "\n",
      "\n",
      "Line 191: The Test set has 12994 label in 1 indicating the presence of cancer.\n",
      " This is about 44.0 percent of the total set.\n",
      "\n",
      "Line 193: Check Validation set image sizes:\n",
      "\n",
      "\n",
      "Line 198: The validation set has 11722 label in 1 indicating the presence of cancer.\n",
      " This is about 42.0 percent of the total set.\n"
     ]
    }
   ],
   "source": [
    "def imageSizeCheck( df, filePath ):\n",
    "    offSize = []\n",
    "    for i, imgName in enumerate( df[\"ImageID\"] ):\n",
    "            imageFilePathTemp = filePath+imgName + \".tiff\"\n",
    "            imageTemp = Image.open( imageFilePathTemp )\n",
    "            imageTempSize= imageTemp.size\n",
    "            if( imageTempSize != (96,96) ):\n",
    "                    print(\"\\nLine 173: Flag this image i=\", i, \"id=\", imgName, \"has a different size.\\n\")\n",
    "                    offSize.append(i) # add the index of the offsize image.\n",
    "            else:\n",
    "                    if( i % 10000 == 0 ):\n",
    "                            print(\"\\nLine 175: i=\", i)\n",
    "    print(\"\\nLine 180: offSize=\", offSize)\n",
    "    return offSize\n",
    "\n",
    "print(\"\\nLine 182: Check Train set image sizes:\\n\")\n",
    "#offsizeTrain = imageSizeCheck(trainDF, trainPath)\n",
    "print(\"\\nLine 184: The Train set has\", sum(trainDF[\"yLabel\"]), \"label in 1 indicating the presence of cancer.\\n This is about\", round(sum(trainDF[\"yLabel\"])/trainDF.shape[0]*100,0) , \"percent of the total set.\")\n",
    "\n",
    "testDF = pd.read_csv(\"testDF.csv\")\n",
    "testPath = cwd + \"/testSet/\"\n",
    "print(\"\\nLine 188: Check Test set image sizes:\\n\")\n",
    "#offsizeTest = imageSizeCheck(testDF, testPath)\n",
    "print(\"\\nLine 191: The Test set has\", sum(testDF[\"yLabel\"]), \"label in 1 indicating the presence of cancer.\\n This is about\", round(sum(testDF[\"yLabel\"])/testDF.shape[0]*100,0) , \"percent of the total set.\")\n",
    "\n",
    "validDF = pd.read_csv(\"validDF.csv\")\n",
    "validPath = cwd + \"/validSet/\"\n",
    "print(\"\\nLine 193: Check Validation set image sizes:\\n\")\n",
    "#offsizeValid = imageSizeCheck(validDF, validPath)\n",
    "print(\"\\nLine 198: The validation set has\", sum(validDF[\"yLabel\"]), \"label in 1 indicating the presence of cancer.\\n This is about\", round(sum(validDF[\"yLabel\"])/validDF.shape[0]*100,0) , \"percent of the total set.\")\n",
    "\n"
   ]
  },
  {
   "cell_type": "markdown",
   "id": "80125aab-e10d-49bc-aa0d-39696f82d835",
   "metadata": {},
   "source": [
    "All images are the same size (96x96) and are of the RGB class. About 40% or so of them show a cancer indication (label set to 1). That mix of 40% positive / 60% negative is quite consistent across the three data sets.\n",
    "\n",
    "<h3 style=\"font-weight: bold; font-style: italic; text-decoration: underline;\">  Data wrangling to fit Tensorflow:</h3>\n",
    "The train and validation sets are now adjusted to the format required by Tensorflow. The label should be converted to a string, and the Image ids should include the file .tiff extension.\n"
   ]
  },
  {
   "cell_type": "code",
   "execution_count": 5,
   "id": "c0363685-4101-483d-8376-55eff9720494",
   "metadata": {},
   "outputs": [
    {
     "name": "stdout",
     "output_type": "stream",
     "text": [
      "                                    ImageID  yLabel yLabelStr  \\\n",
      "0  67acada051970ab2bb750da0d7ea997daed9edf6       0         0   \n",
      "1  75c03b15de7805115de6e5a4c81225fde8dea523       1         1   \n",
      "2  6df1bf584ce3cb234f600ad120da339049b9508a       0         0   \n",
      "3  47345a658666aa524c95e68790a430f0b97b71d5       1         1   \n",
      "4  dcef0ea7de74d401ae6354b56ed2fb96dfbb7dc7       1         1   \n",
      "\n",
      "                                        fileName  \n",
      "0  67acada051970ab2bb750da0d7ea997daed9edf6.tiff  \n",
      "1  75c03b15de7805115de6e5a4c81225fde8dea523.tiff  \n",
      "2  6df1bf584ce3cb234f600ad120da339049b9508a.tiff  \n",
      "3  47345a658666aa524c95e68790a430f0b97b71d5.tiff  \n",
      "4  dcef0ea7de74d401ae6354b56ed2fb96dfbb7dc7.tiff  \n",
      "<class 'pandas.core.frame.DataFrame'>\n",
      "RangeIndex: 29383 entries, 0 to 29382\n",
      "Data columns (total 4 columns):\n",
      " #   Column     Non-Null Count  Dtype \n",
      "---  ------     --------------  ----- \n",
      " 0   ImageID    29383 non-null  object\n",
      " 1   yLabel     29383 non-null  int64 \n",
      " 2   yLabelStr  29383 non-null  string\n",
      " 3   fileName   29383 non-null  object\n",
      "dtypes: int64(1), object(2), string(1)\n",
      "memory usage: 918.3+ KB\n",
      "None\n"
     ]
    }
   ],
   "source": [
    "trainDF[\"yLabelStr\"] = trainDF[\"yLabel\"].copy()\n",
    "trainDF[\"yLabelStr\"]= trainDF[\"yLabelStr\"].astype(\"string\")\n",
    "trainDF[\"fileName\"] = trainDF[\"ImageID\"].copy()\n",
    "for i in range( trainDF.shape[0]):\n",
    "    #trainDF.loc[i,\"yLabelStr\"] = str(trainDF.loc[i,\"yLabel\"]) # make the label a string.\n",
    "    trainDF.loc[i,\"fileName\"] = trainDF.loc[i,\"ImageID\"] + \".tiff\" # make the label a string.\n",
    "\n",
    "validDF[\"yLabelStr\"] = validDF[\"yLabel\"].copy()\n",
    "validDF[\"yLabelStr\"]= validDF[\"yLabelStr\"].astype(\"string\")\n",
    "validDF[\"fileName\"] = validDF[\"ImageID\"].copy()\n",
    "for i in range( len(validDF[\"yLabelStr\"])):\n",
    "    #validDF.loc[i, \"yLabelStr\"] = str(validDF.loc[i,\"yLabel\"]) # make the label a string.\n",
    "    validDF.loc[i,\"fileName\"] = validDF.loc[i,\"ImageID\"] + \".tiff\" # make the label a string.\n",
    "\n",
    "\n",
    "testDF[\"yLabelStr\"] = testDF[\"yLabel\"].copy()\n",
    "testDF[\"yLabelStr\"]= testDF[\"yLabelStr\"].astype(\"string\")\n",
    "testDF[\"fileName\"] = testDF[\"ImageID\"].copy()\n",
    "for i in range( len(testDF[\"yLabelStr\"])):\n",
    "    #testDF.loc[i, \"yLabelStr\"] = str(testDF.loc[i,\"yLabel\"]) # make the label a string.\n",
    "    testDF.loc[i,\"fileName\"] = testDF.loc[i,\"ImageID\"] + \".tiff\" # make the label a string.\n",
    "\n",
    "print(testDF.head())\n",
    "print(testDF.info())\n",
    "\n",
    "def plotHistoryF(history):\n",
    "    historyD = history.history\n",
    "    historyD.keys()\n",
    "    trainAcc = historyD['accuracy']\n",
    "    validAcc = historyD['val_accuracy']\n",
    "    trainLoss = historyD['loss']\n",
    "    validLoss = historyD['val_loss']\n",
    "    \n",
    "    epochs = range(1, len(trainAcc) + 1)\n",
    "    fig1, ax1 = plt.subplots(1)\n",
    "    ax1.plot(epochs, trainLoss, 'rx', label='Training Loss')\n",
    "    ax1.plot(epochs, validLoss, color='#CFB87C', linestyle=':', label='Validation Loss')\n",
    "    ax1.set_title('Training and validation Loss')\n",
    "    ax1.set_xlabel('Epochs')\n",
    "    ax1.set_ylabel('Loss')\n",
    "    ax1.legend()\n",
    "    #fig1.savefig(\"cnnLossPlot.png\")\n",
    "    plt.show()\n",
    "    \n",
    "    fig2, ax2 = plt.subplots(1)\n",
    "    ax2.plot(epochs, trainAcc, 'rx', label='Training Accuracy')\n",
    "    ax2.plot(epochs, validAcc, color='#CFB87C', linestyle=':', label='Validation Accuracy')\n",
    "    ax2.set_title('Training and validation Accuracy')\n",
    "    ax2.set_xlabel('Epochs')\n",
    "    ax2.set_ylabel('Accuracy')\n",
    "    ax2.legend(loc='upper left')\n",
    "    #fig2.savefig(\"cnnAccPlot.png\")\n",
    "    plt.show()\n",
    "    return\n",
    "\n"
   ]
  },
  {
   "cell_type": "markdown",
   "id": "3adf8799-2575-4d54-89fd-477a25f144fe",
   "metadata": {},
   "source": [
    "<h3 style=\"font-weight: bold; font-style: italic; text-decoration: underline;\">  Modelling and Optimizing:</h3>\n",
    "Prior to selecting the final architecture and structure for the project, I reviewed close to a dozen models available in Github to get a feel what has worked (and not worked), and to start with one that is more or less off to a good start (see list in the references section). \n",
    "I settled with a model with 3 cnn layers and soon realized that the training time is in hours (parameterGrid1).\n",
    "\n",
    "buildCNNModel is the main core function, along with cnnParameterGridSearch which helps fine tune the hyperparameters based on a parameter grid strategy.\n",
    "\n",
    "A grid search to optimize 9 hyperparameters with just 2 options for each delivers 2^9= 512 models. Depending on the input parameters each one of the 512 options can take between 5 hours and 9 hours to train on the complete dataset in my system, about 3+ months in total.\n",
    "\n",
    "While the grid search is still running in the background, I selected a small fraction of 100 images of the training and validation sets (parameterGrid2), and made sure that the overall code could flows from the beginning of training and validation until the end testing, with a low number of epoch iterations. \n",
    "\n",
    "For the final run, I selected one value for each hyperparameter and applied it to the entire training and validation sets parameterGrid3. The training takes about 9 hours with 15 epochs, and achieved 85% accuracy on the validation set.\n",
    "\n",
    "I run this report with a more practical set of parameters in parameterGrid4 which is able to achieve close to 80% with a 20-minute run.\n",
    "\n"
   ]
  },
  {
   "cell_type": "code",
   "execution_count": 6,
   "id": "4c0076de-a804-4964-860d-fb6468373abd",
   "metadata": {},
   "outputs": [],
   "source": [
    "inputShape = (96,96,3)\n",
    "\n",
    "parameterGrid1={\"batchSize\": [32,64],\"nStrides\": [2,3], \"nEpoch\": [5, 10 ], \"eta\": [0.0005, 0.0001, 0.00001], \"nFilters1\": [32,64], \"nFilters2\": [32,64], \"kernelSize\": [ (3,3), (5,5) ], \"nTrain\": [160000, trainDF.shape[0]], \"nValid\": [10000, validDF.shape[0]]}\n",
    "parameterGrid2={\"batchSize\":[64],\"nStrides\":[2],\"nEpoch\":[5],\"eta\":[0.0001],\"nFilters1\":[64],\"nFilters2\":[32], \"kernelSize\": [(3,3)],\"nTrain\":[1000],\"nValid\": [1000]}\n",
    "parameterGrid3={\"batchSize\":[64],\"nStrides\":[2],\"nEpoch\":[15],\"eta\":[0.0001],\"nFilters1\":[64],\"nFilters2\":[32], \"kernelSize\": [(3,3)],\"nTrain\":[trainDF.shape[0]],\"nValid\": [validDF.shape[0]]}\n",
    "parameterGrid4={\"batchSize\":[64],\"nStrides\":[2],\"nEpoch\":[20],\"eta\":[0.0001],\"nFilters1\":[64],\"nFilters2\":[32], \"kernelSize\": [(3,3)],\"nTrain\":[2000],\"nValid\": [2000]}\n",
    "parameterGrid5={\"batchSize\":[64],\"nStrides\":[2],\"nEpoch\":[1],\"eta\":[0.0001],\"nFilters1\":[64],\"nFilters2\":[32], \"kernelSize\": [(3,3)],\"nTrain\":[220000],\"nValid\": [20000]}\n",
    "\n",
    "dataGen = ImageDataGenerator(rescale=1/255) # rescale the data.\n",
    "\n",
    "def buildCNNModel( nFilter1=64, nFilter2=32, kSize=(3,3), keta=0.0001, nTrain=trainDF.shape[0], nValid=validDF.shape[0], nStrides=2):\n",
    "    batchSize = 100\n",
    "    #dataGen = ImageDataGenerator(rescale=1/255) # rescale the data.\n",
    "    training = dataGen.flow_from_dataframe(\n",
    "            dataframe = trainDF.iloc[:nTrain, ],\n",
    "            directory = trainPath,\n",
    "            x_col = \"fileName\",\n",
    "            y_col = \"yLabelStr\",\n",
    "            batch_size = batchSize,\n",
    "            shuffle = False,\n",
    "            class_mode = 'binary', #binary labels need to be strings\n",
    "            target_size = (96,96),\n",
    "            seed = 2025,\n",
    "            validate_filenames = True\n",
    "            )\n",
    "    \n",
    "    validation = dataGen.flow_from_dataframe(\n",
    "            dataframe = validDF.iloc[:nValid, ],\n",
    "            directory = validPath,\n",
    "            x_col = \"fileName\",\n",
    "            y_col = \"yLabelStr\",\n",
    "            batch_size = batchSize,\n",
    "            shuffle = False,\n",
    "            class_mode = 'binary', #binary labels need to be strings\n",
    "            target_size = (96,96),\n",
    "            seed = 2025,\n",
    "            validate_filenames = True\n",
    "            )\n",
    "    \n",
    "    cnnModel = tf.keras.Sequential([\n",
    "    layers.Conv2D(nFilter1, kernel_size=kSize, padding='same', activation='relu', input_shape=inputShape),\n",
    "    layers.MaxPooling2D(pool_size=kSize, strides=nStrides, padding='same'),\n",
    "    layers.Conv2D(nFilter2, kernel_size=kSize, padding='same', activation='relu', input_shape=inputShape),\n",
    "    layers.MaxPooling2D(pool_size=kSize, strides=nStrides, padding='same'),\n",
    "    layers.Conv2D(16, kernel_size=kSize, padding='same', activation='relu', input_shape=inputShape),\n",
    "    layers.MaxPooling2D(pool_size=kSize, strides=nStrides, padding='same'),\n",
    "    layers.Flatten(),\n",
    "    layers.Dense(8, activation='relu'),\n",
    "    layers.Dense(1, activation='sigmoid')\n",
    "    ])\n",
    "    cnnModel.compile(loss=tf.keras.losses.BinaryCrossentropy(), metrics=['accuracy'], optimizer=tf.optimizers.Adam(learning_rate=keta))\n",
    "    cnnModel.summary()\n",
    "    return cnnModel, training, validation\n"
   ]
  },
  {
   "cell_type": "markdown",
   "id": "ac120492-b3a5-47cd-bc52-675ddbe183c8",
   "metadata": {},
   "source": [
    "The best model, parameters, and results are saved to disk for future upload without having to go through the costly training process."
   ]
  },
  {
   "cell_type": "code",
   "execution_count": 7,
   "id": "aba3d046-4c65-4e85-bf2b-871bc5b4582b",
   "metadata": {},
   "outputs": [],
   "source": [
    "# Grid search\n",
    "def cnnParamsGridSearch(parameterGrid):\n",
    "    best_val_acc = 0\n",
    "    resultsL = []\n",
    "    bestResultD =None\n",
    "    bestHistory = None\n",
    "    bestModel = None\n",
    "    for eta in parameterGrid[\"eta\"]:\n",
    "            for bs in parameterGrid['batchSize']:\n",
    "                    for nf1 in parameterGrid[\"nFilters1\"]:\n",
    "                            for nf2 in parameterGrid[\"nFilters2\"]:\n",
    "                                    for ks in parameterGrid[\"kernelSize\"]:\n",
    "                                            for nT in parameterGrid[\"nTrain\"]:\n",
    "                                                    for nV in parameterGrid[\"nValid\"]:\n",
    "                                                            for nS in parameterGrid[\"nStrides\"]:\n",
    "                                                                    for nEp in parameterGrid[\"nEpoch\"]:\n",
    "                                                                            print(\"\\nLine 312: Training with eta=\", eta, \"batchSize=\",bs, \"nFilters1=\",nf1, \"nFilters2=\",nf2, \"Epoch=\", nEp)\n",
    "                                                                            print(\"\\n=======================================================================================================\")\n",
    "                                                                            cnnModel, training, validation = buildCNNModel(nf1, nf2, ks, eta, nT, nV, nS )\n",
    "                                                                            history = cnnModel.fit(x=training, validation_data=validation, epochs=nEp, batch_size=bs) # verbose=0\n",
    "                                                                            val_acc = max(history.history['val_accuracy'])\n",
    "                                                                            tempResultD = {'params': {\"batchSize\": bs,\"nStrides\": nS,\"nEpoch\": nEp,\"eta\":eta,\"nFilters1\":nf1,\"nFilters2\":nf2, \"kernelSize\": ks,\"nTrain\":nT,\"nValid\": nV}, 'validAccuracy': val_acc}\n",
    "                                                                            resultsL.append( tempResultD )\n",
    "                                                                            print(\"\\nLine 321: Results:\\n\", resultsL)\n",
    "                                                                            if val_acc > best_val_acc:\n",
    "                                                                                    best_val_acc = val_acc\n",
    "                                                                                    bestResultD = tempResultD\n",
    "                                                                                    with open('bestValResults.pkl', 'wb') as myFile:\n",
    "                                                                                            pickle.dump(bestResultD, myFile)\n",
    "                                                                                    # Best params included in best results D\n",
    "                                                                                    #best_params = {\"batchSize\": bs,\"nStrides\": nS,\"nEpoch\": nEp,\"eta\":eta,\"nFilters1\":nf1,\"nFilters2\":nf2, \"kernelSize\": ks,\"nTrain\":nT,\"nValid\": nV}\n",
    "                                                                                    bestHistory = history\n",
    "                                                                                    with open('bestValHistory.pkl', 'wb') as myFile:\n",
    "                                                                                            pickle.dump(bestHistory, myFile) # bestHistory.history\n",
    "                                                                                    # Saving the best model so far:\n",
    "                                                                                    bestModel = cnnModel\n",
    "                                                                                    cnnModel.save(\"bestValAccCNNModel.keras\", include_optimizer=True)\n",
    "                                                                                    #keras.saving.save_model(model, 'my_model.keras')\n",
    "    \n",
    "                                                                                    # Output model summary to a text file:\n",
    "                                                                                    with open(\"bestValAccCNNModelSummary.txt\", 'w') as myFile:\n",
    "                                                                                            cnnModel.summary(print_fn=lambda x: myFile.write(x + '\\n'))\n",
    "                                                                                    \n",
    "                                                                                    # Save model architecture:\n",
    "                                                                                    with open(\"bestValAccCNNModelConfig.json\", 'w') as myFile:\n",
    "                                                                                            myFile.write(cnnModel.to_json())\n",
    "                                                                                    \n",
    "                                                                                    # Save weights\n",
    "                                                                                    cnnModel.save_weights(\"bestValAccCNNModel.weights.h5\")\n",
    "    return bestResultD, bestHistory, bestModel\n",
    "\n",
    "# Run the saved model once it is saved the firt time:\n",
    "#modelPath = \"bestValAccCNNModel.keras\"\n",
    "#if( os.path.exists(modelPath) ):\n",
    "#        print(\"\\nLine 353: file exists.\")\n",
    "#        #bestModel = tf.keras.models.load_model(modelPath)\n",
    "#        with open('bestValResults.pkl', 'rb') as myFile:\n",
    "#                bestResultD = pickle.load(myFile)\n",
    "#        with open('bestValHistory.pkl', 'rb') as myFile:\n",
    "#                bestHistory = pickle.load(myFile)\n",
    "#else:\n",
    "#        print(\"\\nLine 364: new grid search.\")\n",
    "#        bestResultD, bestHistory, bestModel = cnnParamsGridSearch( parameterGrid4 )                \n"
   ]
  },
  {
   "cell_type": "code",
   "execution_count": 8,
   "id": "c5bf1d78-29be-48f0-b8a8-42dfc3a534af",
   "metadata": {},
   "outputs": [
    {
     "name": "stdout",
     "output_type": "stream",
     "text": [
      "Found 2000 validated image filenames belonging to 2 classes.\n",
      "Found 2000 validated image filenames belonging to 2 classes.\n"
     ]
    },
    {
     "name": "stderr",
     "output_type": "stream",
     "text": [
      "/home/lrt/.local/lib/python3.12/site-packages/keras/src/layers/convolutional/base_conv.py:113: UserWarning: Do not pass an `input_shape`/`input_dim` argument to a layer. When using Sequential models, prefer using an `Input(shape)` object as the first layer in the model instead.\n",
      "  super().__init__(activity_regularizer=activity_regularizer, **kwargs)\n",
      "2025-05-30 13:42:13.275515: E external/local_xla/xla/stream_executor/cuda/cuda_platform.cc:51] failed call to cuInit: INTERNAL: CUDA error: Failed call to cuInit: UNKNOWN ERROR (303)\n"
     ]
    },
    {
     "data": {
      "text/html": [
       "<pre style=\"white-space:pre;overflow-x:auto;line-height:normal;font-family:Menlo,'DejaVu Sans Mono',consolas,'Courier New',monospace\"><span style=\"font-weight: bold\">Model: \"sequential\"</span>\n",
       "</pre>\n"
      ],
      "text/plain": [
       "\u001b[1mModel: \"sequential\"\u001b[0m\n"
      ]
     },
     "metadata": {},
     "output_type": "display_data"
    },
    {
     "data": {
      "text/html": [
       "<pre style=\"white-space:pre;overflow-x:auto;line-height:normal;font-family:Menlo,'DejaVu Sans Mono',consolas,'Courier New',monospace\">┏━━━━━━━━━━━━━━━━━━━━━━━━━━━━━━━━━┳━━━━━━━━━━━━━━━━━━━━━━━━┳━━━━━━━━━━━━━━━┓\n",
       "┃<span style=\"font-weight: bold\"> Layer (type)                    </span>┃<span style=\"font-weight: bold\"> Output Shape           </span>┃<span style=\"font-weight: bold\">       Param # </span>┃\n",
       "┡━━━━━━━━━━━━━━━━━━━━━━━━━━━━━━━━━╇━━━━━━━━━━━━━━━━━━━━━━━━╇━━━━━━━━━━━━━━━┩\n",
       "│ conv2d (<span style=\"color: #0087ff; text-decoration-color: #0087ff\">Conv2D</span>)                 │ (<span style=\"color: #00d7ff; text-decoration-color: #00d7ff\">None</span>, <span style=\"color: #00af00; text-decoration-color: #00af00\">96</span>, <span style=\"color: #00af00; text-decoration-color: #00af00\">96</span>, <span style=\"color: #00af00; text-decoration-color: #00af00\">64</span>)     │         <span style=\"color: #00af00; text-decoration-color: #00af00\">1,792</span> │\n",
       "├─────────────────────────────────┼────────────────────────┼───────────────┤\n",
       "│ max_pooling2d (<span style=\"color: #0087ff; text-decoration-color: #0087ff\">MaxPooling2D</span>)    │ (<span style=\"color: #00d7ff; text-decoration-color: #00d7ff\">None</span>, <span style=\"color: #00af00; text-decoration-color: #00af00\">48</span>, <span style=\"color: #00af00; text-decoration-color: #00af00\">48</span>, <span style=\"color: #00af00; text-decoration-color: #00af00\">64</span>)     │             <span style=\"color: #00af00; text-decoration-color: #00af00\">0</span> │\n",
       "├─────────────────────────────────┼────────────────────────┼───────────────┤\n",
       "│ conv2d_1 (<span style=\"color: #0087ff; text-decoration-color: #0087ff\">Conv2D</span>)               │ (<span style=\"color: #00d7ff; text-decoration-color: #00d7ff\">None</span>, <span style=\"color: #00af00; text-decoration-color: #00af00\">48</span>, <span style=\"color: #00af00; text-decoration-color: #00af00\">48</span>, <span style=\"color: #00af00; text-decoration-color: #00af00\">32</span>)     │        <span style=\"color: #00af00; text-decoration-color: #00af00\">18,464</span> │\n",
       "├─────────────────────────────────┼────────────────────────┼───────────────┤\n",
       "│ max_pooling2d_1 (<span style=\"color: #0087ff; text-decoration-color: #0087ff\">MaxPooling2D</span>)  │ (<span style=\"color: #00d7ff; text-decoration-color: #00d7ff\">None</span>, <span style=\"color: #00af00; text-decoration-color: #00af00\">24</span>, <span style=\"color: #00af00; text-decoration-color: #00af00\">24</span>, <span style=\"color: #00af00; text-decoration-color: #00af00\">32</span>)     │             <span style=\"color: #00af00; text-decoration-color: #00af00\">0</span> │\n",
       "├─────────────────────────────────┼────────────────────────┼───────────────┤\n",
       "│ conv2d_2 (<span style=\"color: #0087ff; text-decoration-color: #0087ff\">Conv2D</span>)               │ (<span style=\"color: #00d7ff; text-decoration-color: #00d7ff\">None</span>, <span style=\"color: #00af00; text-decoration-color: #00af00\">24</span>, <span style=\"color: #00af00; text-decoration-color: #00af00\">24</span>, <span style=\"color: #00af00; text-decoration-color: #00af00\">16</span>)     │         <span style=\"color: #00af00; text-decoration-color: #00af00\">4,624</span> │\n",
       "├─────────────────────────────────┼────────────────────────┼───────────────┤\n",
       "│ max_pooling2d_2 (<span style=\"color: #0087ff; text-decoration-color: #0087ff\">MaxPooling2D</span>)  │ (<span style=\"color: #00d7ff; text-decoration-color: #00d7ff\">None</span>, <span style=\"color: #00af00; text-decoration-color: #00af00\">12</span>, <span style=\"color: #00af00; text-decoration-color: #00af00\">12</span>, <span style=\"color: #00af00; text-decoration-color: #00af00\">16</span>)     │             <span style=\"color: #00af00; text-decoration-color: #00af00\">0</span> │\n",
       "├─────────────────────────────────┼────────────────────────┼───────────────┤\n",
       "│ flatten (<span style=\"color: #0087ff; text-decoration-color: #0087ff\">Flatten</span>)               │ (<span style=\"color: #00d7ff; text-decoration-color: #00d7ff\">None</span>, <span style=\"color: #00af00; text-decoration-color: #00af00\">2304</span>)           │             <span style=\"color: #00af00; text-decoration-color: #00af00\">0</span> │\n",
       "├─────────────────────────────────┼────────────────────────┼───────────────┤\n",
       "│ dense (<span style=\"color: #0087ff; text-decoration-color: #0087ff\">Dense</span>)                   │ (<span style=\"color: #00d7ff; text-decoration-color: #00d7ff\">None</span>, <span style=\"color: #00af00; text-decoration-color: #00af00\">8</span>)              │        <span style=\"color: #00af00; text-decoration-color: #00af00\">18,440</span> │\n",
       "├─────────────────────────────────┼────────────────────────┼───────────────┤\n",
       "│ dense_1 (<span style=\"color: #0087ff; text-decoration-color: #0087ff\">Dense</span>)                 │ (<span style=\"color: #00d7ff; text-decoration-color: #00d7ff\">None</span>, <span style=\"color: #00af00; text-decoration-color: #00af00\">1</span>)              │             <span style=\"color: #00af00; text-decoration-color: #00af00\">9</span> │\n",
       "└─────────────────────────────────┴────────────────────────┴───────────────┘\n",
       "</pre>\n"
      ],
      "text/plain": [
       "┏━━━━━━━━━━━━━━━━━━━━━━━━━━━━━━━━━┳━━━━━━━━━━━━━━━━━━━━━━━━┳━━━━━━━━━━━━━━━┓\n",
       "┃\u001b[1m \u001b[0m\u001b[1mLayer (type)                   \u001b[0m\u001b[1m \u001b[0m┃\u001b[1m \u001b[0m\u001b[1mOutput Shape          \u001b[0m\u001b[1m \u001b[0m┃\u001b[1m \u001b[0m\u001b[1m      Param #\u001b[0m\u001b[1m \u001b[0m┃\n",
       "┡━━━━━━━━━━━━━━━━━━━━━━━━━━━━━━━━━╇━━━━━━━━━━━━━━━━━━━━━━━━╇━━━━━━━━━━━━━━━┩\n",
       "│ conv2d (\u001b[38;5;33mConv2D\u001b[0m)                 │ (\u001b[38;5;45mNone\u001b[0m, \u001b[38;5;34m96\u001b[0m, \u001b[38;5;34m96\u001b[0m, \u001b[38;5;34m64\u001b[0m)     │         \u001b[38;5;34m1,792\u001b[0m │\n",
       "├─────────────────────────────────┼────────────────────────┼───────────────┤\n",
       "│ max_pooling2d (\u001b[38;5;33mMaxPooling2D\u001b[0m)    │ (\u001b[38;5;45mNone\u001b[0m, \u001b[38;5;34m48\u001b[0m, \u001b[38;5;34m48\u001b[0m, \u001b[38;5;34m64\u001b[0m)     │             \u001b[38;5;34m0\u001b[0m │\n",
       "├─────────────────────────────────┼────────────────────────┼───────────────┤\n",
       "│ conv2d_1 (\u001b[38;5;33mConv2D\u001b[0m)               │ (\u001b[38;5;45mNone\u001b[0m, \u001b[38;5;34m48\u001b[0m, \u001b[38;5;34m48\u001b[0m, \u001b[38;5;34m32\u001b[0m)     │        \u001b[38;5;34m18,464\u001b[0m │\n",
       "├─────────────────────────────────┼────────────────────────┼───────────────┤\n",
       "│ max_pooling2d_1 (\u001b[38;5;33mMaxPooling2D\u001b[0m)  │ (\u001b[38;5;45mNone\u001b[0m, \u001b[38;5;34m24\u001b[0m, \u001b[38;5;34m24\u001b[0m, \u001b[38;5;34m32\u001b[0m)     │             \u001b[38;5;34m0\u001b[0m │\n",
       "├─────────────────────────────────┼────────────────────────┼───────────────┤\n",
       "│ conv2d_2 (\u001b[38;5;33mConv2D\u001b[0m)               │ (\u001b[38;5;45mNone\u001b[0m, \u001b[38;5;34m24\u001b[0m, \u001b[38;5;34m24\u001b[0m, \u001b[38;5;34m16\u001b[0m)     │         \u001b[38;5;34m4,624\u001b[0m │\n",
       "├─────────────────────────────────┼────────────────────────┼───────────────┤\n",
       "│ max_pooling2d_2 (\u001b[38;5;33mMaxPooling2D\u001b[0m)  │ (\u001b[38;5;45mNone\u001b[0m, \u001b[38;5;34m12\u001b[0m, \u001b[38;5;34m12\u001b[0m, \u001b[38;5;34m16\u001b[0m)     │             \u001b[38;5;34m0\u001b[0m │\n",
       "├─────────────────────────────────┼────────────────────────┼───────────────┤\n",
       "│ flatten (\u001b[38;5;33mFlatten\u001b[0m)               │ (\u001b[38;5;45mNone\u001b[0m, \u001b[38;5;34m2304\u001b[0m)           │             \u001b[38;5;34m0\u001b[0m │\n",
       "├─────────────────────────────────┼────────────────────────┼───────────────┤\n",
       "│ dense (\u001b[38;5;33mDense\u001b[0m)                   │ (\u001b[38;5;45mNone\u001b[0m, \u001b[38;5;34m8\u001b[0m)              │        \u001b[38;5;34m18,440\u001b[0m │\n",
       "├─────────────────────────────────┼────────────────────────┼───────────────┤\n",
       "│ dense_1 (\u001b[38;5;33mDense\u001b[0m)                 │ (\u001b[38;5;45mNone\u001b[0m, \u001b[38;5;34m1\u001b[0m)              │             \u001b[38;5;34m9\u001b[0m │\n",
       "└─────────────────────────────────┴────────────────────────┴───────────────┘\n"
      ]
     },
     "metadata": {},
     "output_type": "display_data"
    },
    {
     "data": {
      "text/html": [
       "<pre style=\"white-space:pre;overflow-x:auto;line-height:normal;font-family:Menlo,'DejaVu Sans Mono',consolas,'Courier New',monospace\"><span style=\"font-weight: bold\"> Total params: </span><span style=\"color: #00af00; text-decoration-color: #00af00\">43,329</span> (169.25 KB)\n",
       "</pre>\n"
      ],
      "text/plain": [
       "\u001b[1m Total params: \u001b[0m\u001b[38;5;34m43,329\u001b[0m (169.25 KB)\n"
      ]
     },
     "metadata": {},
     "output_type": "display_data"
    },
    {
     "data": {
      "text/html": [
       "<pre style=\"white-space:pre;overflow-x:auto;line-height:normal;font-family:Menlo,'DejaVu Sans Mono',consolas,'Courier New',monospace\"><span style=\"font-weight: bold\"> Trainable params: </span><span style=\"color: #00af00; text-decoration-color: #00af00\">43,329</span> (169.25 KB)\n",
       "</pre>\n"
      ],
      "text/plain": [
       "\u001b[1m Trainable params: \u001b[0m\u001b[38;5;34m43,329\u001b[0m (169.25 KB)\n"
      ]
     },
     "metadata": {},
     "output_type": "display_data"
    },
    {
     "data": {
      "text/html": [
       "<pre style=\"white-space:pre;overflow-x:auto;line-height:normal;font-family:Menlo,'DejaVu Sans Mono',consolas,'Courier New',monospace\"><span style=\"font-weight: bold\"> Non-trainable params: </span><span style=\"color: #00af00; text-decoration-color: #00af00\">0</span> (0.00 B)\n",
       "</pre>\n"
      ],
      "text/plain": [
       "\u001b[1m Non-trainable params: \u001b[0m\u001b[38;5;34m0\u001b[0m (0.00 B)\n"
      ]
     },
     "metadata": {},
     "output_type": "display_data"
    },
    {
     "name": "stderr",
     "output_type": "stream",
     "text": [
      "/home/lrt/.local/lib/python3.12/site-packages/keras/src/trainers/data_adapters/py_dataset_adapter.py:121: UserWarning: Your `PyDataset` class should call `super().__init__(**kwargs)` in its constructor. `**kwargs` can include `workers`, `use_multiprocessing`, `max_queue_size`. Do not pass these arguments to `fit()`, as they will be ignored.\n",
      "  self._warn_if_super_not_called()\n"
     ]
    },
    {
     "name": "stdout",
     "output_type": "stream",
     "text": [
      "Epoch 1/20\n",
      "\u001b[1m20/20\u001b[0m \u001b[32m━━━━━━━━━━━━━━━━━━━━\u001b[0m\u001b[37m\u001b[0m \u001b[1m24s\u001b[0m 1s/step - accuracy: 0.5689 - loss: 0.6924 - val_accuracy: 0.5175 - val_loss: 0.6924\n",
      "Epoch 2/20\n",
      "\u001b[1m20/20\u001b[0m \u001b[32m━━━━━━━━━━━━━━━━━━━━\u001b[0m\u001b[37m\u001b[0m \u001b[1m20s\u001b[0m 1s/step - accuracy: 0.4870 - loss: 0.6953 - val_accuracy: 0.5265 - val_loss: 0.6918\n",
      "Epoch 3/20\n",
      "\u001b[1m20/20\u001b[0m \u001b[32m━━━━━━━━━━━━━━━━━━━━\u001b[0m\u001b[37m\u001b[0m \u001b[1m20s\u001b[0m 999ms/step - accuracy: 0.5788 - loss: 0.6898 - val_accuracy: 0.5925 - val_loss: 0.6879\n",
      "Epoch 4/20\n",
      "\u001b[1m20/20\u001b[0m \u001b[32m━━━━━━━━━━━━━━━━━━━━\u001b[0m\u001b[37m\u001b[0m \u001b[1m19s\u001b[0m 980ms/step - accuracy: 0.6103 - loss: 0.6863 - val_accuracy: 0.6165 - val_loss: 0.6847\n",
      "Epoch 5/20\n",
      "\u001b[1m20/20\u001b[0m \u001b[32m━━━━━━━━━━━━━━━━━━━━\u001b[0m\u001b[37m\u001b[0m \u001b[1m20s\u001b[0m 993ms/step - accuracy: 0.6132 - loss: 0.6813 - val_accuracy: 0.6190 - val_loss: 0.6815\n",
      "Epoch 6/20\n",
      "\u001b[1m20/20\u001b[0m \u001b[32m━━━━━━━━━━━━━━━━━━━━\u001b[0m\u001b[37m\u001b[0m \u001b[1m20s\u001b[0m 1s/step - accuracy: 0.6668 - loss: 0.6742 - val_accuracy: 0.5955 - val_loss: 0.6777\n",
      "Epoch 7/20\n",
      "\u001b[1m20/20\u001b[0m \u001b[32m━━━━━━━━━━━━━━━━━━━━\u001b[0m\u001b[37m\u001b[0m \u001b[1m20s\u001b[0m 999ms/step - accuracy: 0.5599 - loss: 0.6860 - val_accuracy: 0.5995 - val_loss: 0.6752\n",
      "Epoch 8/20\n",
      "\u001b[1m20/20\u001b[0m \u001b[32m━━━━━━━━━━━━━━━━━━━━\u001b[0m\u001b[37m\u001b[0m \u001b[1m19s\u001b[0m 980ms/step - accuracy: 0.6627 - loss: 0.6614 - val_accuracy: 0.6055 - val_loss: 0.6806\n",
      "Epoch 9/20\n",
      "\u001b[1m20/20\u001b[0m \u001b[32m━━━━━━━━━━━━━━━━━━━━\u001b[0m\u001b[37m\u001b[0m \u001b[1m20s\u001b[0m 993ms/step - accuracy: 0.6699 - loss: 0.6578 - val_accuracy: 0.6340 - val_loss: 0.6639\n",
      "Epoch 10/20\n",
      "\u001b[1m20/20\u001b[0m \u001b[32m━━━━━━━━━━━━━━━━━━━━\u001b[0m\u001b[37m\u001b[0m \u001b[1m20s\u001b[0m 994ms/step - accuracy: 0.7049 - loss: 0.6425 - val_accuracy: 0.6250 - val_loss: 0.6617\n",
      "Epoch 11/20\n",
      "\u001b[1m20/20\u001b[0m \u001b[32m━━━━━━━━━━━━━━━━━━━━\u001b[0m\u001b[37m\u001b[0m \u001b[1m20s\u001b[0m 997ms/step - accuracy: 0.6335 - loss: 0.6469 - val_accuracy: 0.6205 - val_loss: 0.6518\n",
      "Epoch 12/20\n",
      "\u001b[1m20/20\u001b[0m \u001b[32m━━━━━━━━━━━━━━━━━━━━\u001b[0m\u001b[37m\u001b[0m \u001b[1m20s\u001b[0m 1s/step - accuracy: 0.6216 - loss: 0.6506 - val_accuracy: 0.6340 - val_loss: 0.6372\n",
      "Epoch 13/20\n",
      "\u001b[1m20/20\u001b[0m \u001b[32m━━━━━━━━━━━━━━━━━━━━\u001b[0m\u001b[37m\u001b[0m \u001b[1m20s\u001b[0m 989ms/step - accuracy: 0.6175 - loss: 0.6420 - val_accuracy: 0.6035 - val_loss: 0.6363\n",
      "Epoch 14/20\n",
      "\u001b[1m20/20\u001b[0m \u001b[32m━━━━━━━━━━━━━━━━━━━━\u001b[0m\u001b[37m\u001b[0m \u001b[1m20s\u001b[0m 1s/step - accuracy: 0.6180 - loss: 0.6379 - val_accuracy: 0.7345 - val_loss: 0.5933\n",
      "Epoch 15/20\n",
      "\u001b[1m20/20\u001b[0m \u001b[32m━━━━━━━━━━━━━━━━━━━━\u001b[0m\u001b[37m\u001b[0m \u001b[1m20s\u001b[0m 1s/step - accuracy: 0.7214 - loss: 0.6023 - val_accuracy: 0.7800 - val_loss: 0.5653\n",
      "Epoch 16/20\n",
      "\u001b[1m20/20\u001b[0m \u001b[32m━━━━━━━━━━━━━━━━━━━━\u001b[0m\u001b[37m\u001b[0m \u001b[1m20s\u001b[0m 996ms/step - accuracy: 0.7295 - loss: 0.5866 - val_accuracy: 0.7830 - val_loss: 0.5448\n",
      "Epoch 17/20\n",
      "\u001b[1m20/20\u001b[0m \u001b[32m━━━━━━━━━━━━━━━━━━━━\u001b[0m\u001b[37m\u001b[0m \u001b[1m20s\u001b[0m 1s/step - accuracy: 0.7812 - loss: 0.5456 - val_accuracy: 0.7930 - val_loss: 0.5188\n",
      "Epoch 18/20\n",
      "\u001b[1m20/20\u001b[0m \u001b[32m━━━━━━━━━━━━━━━━━━━━\u001b[0m\u001b[37m\u001b[0m \u001b[1m20s\u001b[0m 1s/step - accuracy: 0.7672 - loss: 0.5347 - val_accuracy: 0.7935 - val_loss: 0.4921\n",
      "Epoch 19/20\n",
      "\u001b[1m20/20\u001b[0m \u001b[32m━━━━━━━━━━━━━━━━━━━━\u001b[0m\u001b[37m\u001b[0m \u001b[1m20s\u001b[0m 1s/step - accuracy: 0.7711 - loss: 0.5112 - val_accuracy: 0.7920 - val_loss: 0.4905\n",
      "Epoch 20/20\n",
      "\u001b[1m20/20\u001b[0m \u001b[32m━━━━━━━━━━━━━━━━━━━━\u001b[0m\u001b[37m\u001b[0m \u001b[1m20s\u001b[0m 1s/step - accuracy: 0.7658 - loss: 0.5110 - val_accuracy: 0.8100 - val_loss: 0.4616\n"
     ]
    },
    {
     "data": {
      "image/png": "[encoded data removed]",
      "text/plain": [
       "<Figure size 640x480 with 1 Axes>"
      ]
     },
     "metadata": {},
     "output_type": "display_data"
    },
    {
     "data": {
      "image/png": "[encoded data removed]",
      "text/plain": [
       "<Figure size 640x480 with 1 Axes>"
      ]
     },
     "metadata": {},
     "output_type": "display_data"
    },
    {
     "name": "stdout",
     "output_type": "stream",
     "text": [
      "\u001b[1m20/20\u001b[0m \u001b[32m━━━━━━━━━━━━━━━━━━━━\u001b[0m\u001b[37m\u001b[0m \u001b[1m5s\u001b[0m 237ms/step\n",
      "\n",
      "Line 390: validAcc: 0.8100000023841858\n"
     ]
    }
   ],
   "source": [
    "pg= parameterGrid4 # This is the scenario the model will be based on.\n",
    "bestModel, training, validation = buildCNNModel(pg[\"nFilters1\"][0], pg[\"nFilters2\"][0], pg[\"kernelSize\"][0], pg[\"eta\"][0], pg[\"nTrain\"][0], pg[\"nValid\"][0], pg[\"nStrides\"][0] )\n",
    "bestModel.save(\"bestValAccCNNModel.keras\", include_optimizer=True)\n",
    "\n",
    "history = bestModel.fit(x=training, validation_data=validation, epochs=pg[\"nEpoch\"][0], batch_size=pg[\"batchSize\"][0]) # verbose=0\n",
    "validAcc = max(history.history['val_accuracy'])\n",
    "plotHistoryF(history)\n",
    "validPred = bestModel.predict(validation)\n",
    "#print(\"\\nLine 384: validPred:\", validPred)\n",
    "print(\"\\nLine 390: validAcc:\", validAcc)\n"
   ]
  },
  {
   "cell_type": "markdown",
   "id": "54dc2052-c7e5-462d-8765-211ea39c2b00",
   "metadata": {},
   "source": [
    "<h3 style=\"font-weight: bold; font-style: italic; text-decoration: underline;\">  Results: Confusion Matrix (Validation Set):</h3>\n"
   ]
  },
  {
   "cell_type": "code",
   "execution_count": 16,
   "id": "ced087d7-2c80-408e-877f-b643e39fce5a",
   "metadata": {},
   "outputs": [
    {
     "name": "stdout",
     "output_type": "stream",
     "text": [
      "\n",
      "Line 426 Check Lengths of true and predicted label lists: 2000 2000\n",
      "Accuracy: 0.81\n",
      "F1: 0.82\n",
      "Precision: 0.80\n",
      "Recall: 0.85\n"
     ]
    },
    {
     "data": {
      "image/png": "[encoded data removed]",
      "text/plain": [
       "<Figure size 640x480 with 2 Axes>"
      ]
     },
     "metadata": {},
     "output_type": "display_data"
    }
   ],
   "source": [
    "# We need to convert these probabilities to a binary 0/1. I will for now use a 0.5 threshhold.\n",
    "def setPredLabels(th, predictedLabels):\n",
    "    threshold = th\n",
    "    finalPredLabels = predictedLabels.copy().reshape(1,-1)[0]\n",
    "    finalPredLabels[finalPredLabels>=threshold] = \"1\"\n",
    "    finalPredLabels[finalPredLabels<threshold] = \"0\"\n",
    "    #print(\"\\nLine 401 validPredLabels\", validPredLabels) # validation set predicted labels.\n",
    "    #print(\"\\nLine 403 Check Lengths of true and predicted label lists:\", len(validPredLabels), bestResultD[\"params\"][\"nValid\"] )\n",
    "    #print(\"\\nLine 404: \", type(validPredLabels[0])) # predicted labels\n",
    "\n",
    "    #print(\"\\nLine 409: \", type(validLabels[0]))\n",
    "    return finalPredLabels\n",
    "\n",
    "# Confusion Matrix :\n",
    "def buildConfM( trueLabels, predLabels, fileName):\n",
    "    confM = confusion_matrix(trueLabels, predLabels)\n",
    "    confMDisplay = ConfusionMatrixDisplay(confM)\n",
    "    confMDisplay.plot()\n",
    "    plt.savefig(fileName)\n",
    "    print('Accuracy: %.2f' %(accuracy_score(trueLabels, predLabels)))\n",
    "    print('F1: %.2f' %(f1_score(trueLabels, predLabels)))\n",
    "    print('Precision: %.2f' %(precision_score(trueLabels, predLabels)))\n",
    "    print('Recall: %.2f' %(recall_score(trueLabels, predLabels)))\n",
    "    return\n",
    "\n",
    "validLabels = validDF.loc[0:pg[\"nValid\"][0]-1, \"yLabel\"].copy().values.astype(float)\n",
    "validPredLabels = setPredLabels(0.5, validPred)\n",
    "print(\"\\nLine 426 Check Lengths of true and predicted label lists:\", len(validPredLabels), len(validLabels))\n",
    "\n",
    "buildConfM(validLabels, validPredLabels, \"confMValid.png\")\n",
    "\n",
    "\n"
   ]
  },
  {
   "cell_type": "markdown",
   "id": "e0874310-ede8-4131-b79f-c5098d76f180",
   "metadata": {},
   "source": [
    "The confusion matrix on the validation set above shows the 81% accuracy (predicted and true label values are the same). True label \"0\" with predicted label \"1\" (220 cases, about 11% of the sample) is the case of a non-cancer cell labelled as cancer positive. These are the type of errors that would be easily verified in a second visit of the patient with her oncologists.\n",
    "\n",
    "True label \"1\" with predicted label \"0\" (160 cases, about 8% of the sample) is the case of a cancer cell labelled as cancer negative. \n",
    "These are the trouble errors. Future versions of this project should focus on reducing this type of errors.\n",
    "\n",
    "<h3 style=\"font-weight: bold; font-style: italic; text-decoration: underline;\">  Results: Confusion Matrix (Test Set):</h3>\n"
   ]
  },
  {
   "cell_type": "code",
   "execution_count": 15,
   "id": "ef799d74-d705-42d1-ab54-8093fd580a72",
   "metadata": {},
   "outputs": [
    {
     "name": "stdout",
     "output_type": "stream",
     "text": [
      "\n",
      "Line 413 Test Set Data Generation\n",
      "Found 29383 validated image filenames.\n",
      "\u001b[1m  1/919\u001b[0m \u001b[37m━━━━━━━━━━━━━━━━━━━━\u001b[0m \u001b[1m1:32\u001b[0m 101ms/step"
     ]
    },
    {
     "name": "stderr",
     "output_type": "stream",
     "text": [
      "/home/lrt/.local/lib/python3.12/site-packages/keras/src/trainers/data_adapters/py_dataset_adapter.py:121: UserWarning: Your `PyDataset` class should call `super().__init__(**kwargs)` in its constructor. `**kwargs` can include `workers`, `use_multiprocessing`, `max_queue_size`. Do not pass these arguments to `fit()`, as they will be ignored.\n",
      "  self._warn_if_super_not_called()\n"
     ]
    },
    {
     "name": "stdout",
     "output_type": "stream",
     "text": [
      "\u001b[1m919/919\u001b[0m \u001b[32m━━━━━━━━━━━━━━━━━━━━\u001b[0m\u001b[37m\u001b[0m \u001b[1m66s\u001b[0m 72ms/step\n",
      "\n",
      "Line 454 Check Lengths of true and predicted label lists: 29383 29383\n",
      "Accuracy: 0.78\n",
      "F1: 0.77\n",
      "Precision: 0.72\n",
      "Recall: 0.82\n"
     ]
    },
    {
     "data": {
      "image/png": "[encoded data removed]",
      "text/plain": [
       "<Figure size 640x480 with 2 Axes>"
      ]
     },
     "metadata": {},
     "output_type": "display_data"
    }
   ],
   "source": [
    "# Final Test on the Test Set:\n",
    "#=============================\n",
    "print(\"\\nLine 413 Test Set Data Generation\" )\n",
    "nTest = testDF.shape[0]\n",
    "test = dataGen.flow_from_dataframe(dataframe = testDF.iloc[0:nTest], directory = testPath, x_col = \"fileName\", shuffle = False, target_size = (96,96), class_mode= None, classes=None, validate_filenames = True)\n",
    "\n",
    "testPred = bestModel.predict(test)\n",
    "testLabels = testDF.loc[0:nTest-1, \"yLabel\"].copy().values.astype(float)\n",
    "testPredLabels = setPredLabels(0.5, testPred)\n",
    "print(\"\\nLine 454 Check Lengths of true and predicted label lists:\", len(testPredLabels), len(testLabels))\n",
    "#print(\"\\nLine 441: test true labels:\", testLabels, sum(testLabels))\n",
    "buildConfM(testLabels, testPredLabels, \"confMTest.png\")\n",
    "\n",
    "\n",
    "# Prepare the test set for upload:\n",
    "#=================================\n",
    "testDF[\"id\"] = testDF[\"ImageID\"].copy()\n",
    "testDF[\"label\"] = testPredLabels\n",
    "testDF[\"label\"] = testDF[\"label\"].astype(int)\n",
    "\n",
    "# This is the final deliverable:\n",
    "finalTestDF = testDF[[\"id\",\"label\"]]\n",
    "finalTestDF.to_csv('finalSubmission.csv', index=False)\n",
    "\n",
    "\n",
    "\n",
    "\n"
   ]
  },
  {
   "cell_type": "markdown",
   "id": "62283a0d-d83d-46db-a6ec-caf910f7f455",
   "metadata": {},
   "source": [
    "<h3 style=\"font-weight: bold; font-style: italic; text-decoration: underline;\">  Final Comments and Conclussions:</h3>\n",
    "\n",
    "It took 9 hours to train and validate the best model with the whole training and validation data set with a learning rate of eta=0.0001 and epoch=15 iterations. The accuracy achieved is close to 85%. The accuracy vs epoch shows that the curve has not yet tappered off, suggesting that an increase in epoch could lead to an increase in accuracy.\n",
    "\n",
    "While achieving 85% accuracy may seem like a long process, it is actually a good start. Of the 15% non-accurate labels, some were images of healthy cells missclassified as a cancer positive. This type 2 error can be filtered out during a second follow-up review of the patient. The missclasification of type 1 error --cancer cell images classified as healthy-- should be the focus of attention and that seems to be less than 10%. This 10% error is still too high for this purpose. We should be able to get to 1 type 1 missclasification per 350 million (the entire US population).\n",
    "\n",
    "I conducted a grid search to tune the hypermarameters. This is a time-consuming, resource-intensive effort. The hyperparameters grid and their values are listed on the grid below:\n",
    "\n",
    "parameterGrid = {\n",
    "        \"batchSize\": [32,64],\n",
    "        \"nStrides\": [2,3],\n",
    "        \"nEpoch\": [5, 10 ],\n",
    "        \"eta\": [0.0005, 0.0001, 0.00001],\n",
    "        \"nFilters1\": [32,64], \n",
    "        \"nFilters2\": [32,64], \n",
    "        \"kernelSize\": [ (3,3), (5,5) ],\n",
    "        \"nTrain\": [160000, trainDF.shape[0]],\n",
    "        \"nValid\": [10000, validDF.shape[0]]\n",
    "}\n",
    "\n",
    "This grid search delivers about 600 results. While it will take days to complete, this grid search is not large at all, and it could easily be a lot larger, taking weeks to complete. This running time would be totally justifiable to save a life. However, for the purpose of this paper, I will take the best parameters the grid search could find.\n",
    "\n",
    "Along with the core hyperparameters, the number of epoch iterations and the size of the dataset used are critical factors to train in less time.\n",
    "\n",
    "The same model trained with a small fraction of the data (2000 as stated in parameterGrid4) can produce accuracy of 81% on the validation set and 77% on the test. These are sufficient for the purpose of this paper.\n",
    "\n",
    "<h3 style=\"font-weight: bold; font-style: italic; text-decoration: underline;\">  List of References:</h3>\n",
    "\n",
    "https://www.kaggle.com/competitions/histopathologic-cancer-detection/data\n",
    "\n",
    "https://github.com/Evan0605/DTSA-5511-CNN-Cancer-Detection-Kaggle-Mini-Project/blob/main/CNN%20Cancer%20Detection%20Kaggle%20Mini-Project.ipynb\n",
    "\n",
    "https://github.com/IsraelsLibrary/DTSA_5511_CNN_Cancer_Detection_Kaggle_MiniProject\n",
    "\n",
    "https://github.com/Chiuchiyin/CNN-Cancer-Detection\n",
    "\n",
    "https://www.kaggle.com/code/ccozad/week-3-cnn-cancer-detection-mini-project\n",
    "\n",
    "https://github.com/CecileChang/DTSA-5511/blob/main/CNN%20Cancer%20Detection%20Kaggle%20Mini-Project.ipynb\n",
    "\n",
    "https://github.com/gbainwol/CONVOLUTIONAL_NEURAL_NETWORK_CANCER_PREDICTION_PROJECT\n",
    "\n",
    "https://github.com/IvMonares/CNN_Cancer_Detection\n",
    "\n",
    "https://github.com/clebastard21/DTSA-5511-Histopathologic-Cancer-Detection/blob/main/README.md\n",
    "\n",
    "https://github.com/binyammesfin/DTSA-5511---Cancer-Detection-Kaggle-Mini-Project\n",
    "\n",
    "https://github.com/23yem/Kaggle-Histopathologic-Cancer-Detection\n",
    "\n",
    "https://annasanders.github.io/ms_projects/dtsa5511_cnncancer\n",
    "\n",
    "https://github.com/basveeling/pcam\n",
    "\n",
    "https://www.tensorflow.org/tutorials/keras/text_classification\n"
   ]
  },
  {
   "cell_type": "code",
   "execution_count": null,
   "id": "896d9689-06ca-4f60-ad45-0e806f82d573",
   "metadata": {},
   "outputs": [],
   "source": []
  },
  {
   "cell_type": "code",
   "execution_count": null,
   "id": "df84345c-b9d0-4d1b-85d9-396563dcfc7d",
   "metadata": {},
   "outputs": [],
   "source": []
  }
 ],
 "metadata": {
  "kernelspec": {
   "display_name": "Python 3 (ipykernel)",
   "language": "python",
   "name": "python3"
  },
  "language_info": {
   "codemirror_mode": {
    "name": "ipython",
    "version": 3
   },
   "file_extension": ".py",
   "mimetype": "text/x-python",
   "name": "python",
   "nbconvert_exporter": "python",
   "pygments_lexer": "ipython3",
   "version": "3.12.7"
  }
 },
 "nbformat": 4,
 "nbformat_minor": 5
}
